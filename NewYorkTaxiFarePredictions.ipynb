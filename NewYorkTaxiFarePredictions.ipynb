{
 "cells": [
  {
   "cell_type": "markdown",
   "id": "b0edff22",
   "metadata": {},
   "source": [
    "# 1. Load all the libraries"
   ]
  },
  {
   "cell_type": "code",
   "execution_count": 1,
   "id": "aeee857b",
   "metadata": {},
   "outputs": [
    {
     "name": "stdout",
     "output_type": "stream",
     "text": [
      "/home/NewYorkTaxiFarePredictions/GCP-Coupons-Instructions.rtf\n",
      "/home/NewYorkTaxiFarePredictions/train.csv\n",
      "/home/NewYorkTaxiFarePredictions/new-york-city-taxi-fare-prediction.zip\n",
      "/home/NewYorkTaxiFarePredictions/test.csv\n",
      "/home/NewYorkTaxiFarePredictions/sample_submission.csv\n"
     ]
    }
   ],
   "source": [
    "import numpy as np # linear algebra\n",
    "import pandas as pd # data processing, CSV file I/O (e.g. pd.read_csv)\n",
    "\n",
    "DATA_PATH = \"/home/NewYorkTaxiFarePredictions/\"\n",
    "import os\n",
    "for dirname, _, filenames in os.walk(DATA_PATH):\n",
    "    for filename in filenames:\n",
    "        print(os.path.join(dirname, filename))"
   ]
  },
  {
   "cell_type": "code",
   "execution_count": 2,
   "id": "cca28638",
   "metadata": {},
   "outputs": [
    {
     "name": "stderr",
     "output_type": "stream",
     "text": [
      "/usr/local/lib/python3.6/dist-packages/pyspark/context.py:238: FutureWarning: Python 3.6 support is deprecated in Spark 3.2.\n",
      "  FutureWarning\n"
     ]
    },
    {
     "data": {
      "text/html": [
       "\n",
       "        <div>\n",
       "            <p><b>SparkContext</b></p>\n",
       "\n",
       "            <p><a href=\"http://d2e90930a425:4040\">Spark UI</a></p>\n",
       "\n",
       "            <dl>\n",
       "              <dt>Version</dt>\n",
       "                <dd><code>v3.2.1</code></dd>\n",
       "              <dt>Master</dt>\n",
       "                <dd><code>spark://d2e90930a425:7077</code></dd>\n",
       "              <dt>AppName</dt>\n",
       "                <dd><code>pyspark-shell</code></dd>\n",
       "            </dl>\n",
       "        </div>\n",
       "        "
      ],
      "text/plain": [
       "<SparkContext master=spark://d2e90930a425:7077 appName=pyspark-shell>"
      ]
     },
     "execution_count": 2,
     "metadata": {},
     "output_type": "execute_result"
    }
   ],
   "source": [
    "# from pyspark.sql import SparkSession, functions as F, DataFrame\n",
    "import pyspark\n",
    "# spark = SparkSession.builder.getOrCreate()\n",
    "conf = pyspark.SparkConf()\n",
    "conf.setMaster('spark://d2e90930a425:7077')\n",
    "sc = pyspark.SparkContext(conf=conf)\n",
    "# spark\n",
    "sc"
   ]
  },
  {
   "cell_type": "code",
   "execution_count": 3,
   "id": "93dcc571",
   "metadata": {},
   "outputs": [
    {
     "data": {
      "text/html": [
       "\n",
       "            <div>\n",
       "                <p><b>SparkSession - in-memory</b></p>\n",
       "                \n",
       "        <div>\n",
       "            <p><b>SparkContext</b></p>\n",
       "\n",
       "            <p><a href=\"http://d2e90930a425:4040\">Spark UI</a></p>\n",
       "\n",
       "            <dl>\n",
       "              <dt>Version</dt>\n",
       "                <dd><code>v3.2.1</code></dd>\n",
       "              <dt>Master</dt>\n",
       "                <dd><code>spark://d2e90930a425:7077</code></dd>\n",
       "              <dt>AppName</dt>\n",
       "                <dd><code>pyspark-shell</code></dd>\n",
       "            </dl>\n",
       "        </div>\n",
       "        \n",
       "            </div>\n",
       "        "
      ],
      "text/plain": [
       "<pyspark.sql.session.SparkSession at 0x7ff2c0cb3c18>"
      ]
     },
     "execution_count": 3,
     "metadata": {},
     "output_type": "execute_result"
    }
   ],
   "source": [
    "spark = pyspark.sql.SparkSession.builder.getOrCreate()\n",
    "spark"
   ]
  },
  {
   "cell_type": "markdown",
   "id": "46900c05",
   "metadata": {},
   "source": [
    "# 2. Load in the data"
   ]
  },
  {
   "cell_type": "code",
   "execution_count": 4,
   "id": "232e7cc0",
   "metadata": {},
   "outputs": [
    {
     "name": "stdout",
     "output_type": "stream",
     "text": [
      "(55423856, 8)\n",
      "(55260, 8)\n",
      "CPU times: user 20.2 ms, sys: 5.56 ms, total: 25.8 ms\n",
      "Wall time: 1min 12s\n"
     ]
    }
   ],
   "source": [
    "%%time\n",
    "sdf_train = spark.read.csv(f'{DATA_PATH}/train.csv', inferSchema=True, header=True)\n",
    "print((sdf_train.count(), len(sdf_train.columns)))\n",
    "sdf_train = sdf_train.sample(0.2,123)\n",
    "print((sdf_train.count(), len(sdf_train.columns)))"
   ]
  },
  {
   "cell_type": "code",
   "execution_count": 5,
   "id": "03b9b052",
   "metadata": {},
   "outputs": [
    {
     "name": "stdout",
     "output_type": "stream",
     "text": [
      "root\n",
      " |-- key: string (nullable = true)\n",
      " |-- fare_amount: double (nullable = true)\n",
      " |-- pickup_datetime: string (nullable = true)\n",
      " |-- pickup_longitude: double (nullable = true)\n",
      " |-- pickup_latitude: double (nullable = true)\n",
      " |-- dropoff_longitude: double (nullable = true)\n",
      " |-- dropoff_latitude: double (nullable = true)\n",
      " |-- passenger_count: integer (nullable = true)\n",
      "\n"
     ]
    }
   ],
   "source": [
    "sdf_train.printSchema()"
   ]
  },
  {
   "cell_type": "markdown",
   "id": "47724b0e",
   "metadata": {},
   "source": [
    "## check for missing data, duplicates and weird values"
   ]
  },
  {
   "cell_type": "code",
   "execution_count": 6,
   "id": "d4567427",
   "metadata": {},
   "outputs": [
    {
     "data": {
      "text/html": [
       "<div>\n",
       "<style scoped>\n",
       "    .dataframe tbody tr th:only-of-type {\n",
       "        vertical-align: middle;\n",
       "    }\n",
       "\n",
       "    .dataframe tbody tr th {\n",
       "        vertical-align: top;\n",
       "    }\n",
       "\n",
       "    .dataframe thead th {\n",
       "        text-align: right;\n",
       "    }\n",
       "</style>\n",
       "<table border=\"1\" class=\"dataframe\">\n",
       "  <thead>\n",
       "    <tr style=\"text-align: right;\">\n",
       "      <th></th>\n",
       "      <th>key</th>\n",
       "      <th>fare_amount</th>\n",
       "      <th>pickup_datetime</th>\n",
       "      <th>pickup_longitude</th>\n",
       "      <th>pickup_latitude</th>\n",
       "      <th>dropoff_longitude</th>\n",
       "      <th>dropoff_latitude</th>\n",
       "      <th>passenger_count</th>\n",
       "    </tr>\n",
       "  </thead>\n",
       "  <tbody>\n",
       "    <tr>\n",
       "      <th>0</th>\n",
       "      <td>0</td>\n",
       "      <td>0</td>\n",
       "      <td>0</td>\n",
       "      <td>0</td>\n",
       "      <td>0</td>\n",
       "      <td>0</td>\n",
       "      <td>0</td>\n",
       "      <td>0</td>\n",
       "    </tr>\n",
       "  </tbody>\n",
       "</table>\n",
       "</div>"
      ],
      "text/plain": [
       "   key  fare_amount  pickup_datetime  pickup_longitude  pickup_latitude  \\\n",
       "0    0            0                0                 0                0   \n",
       "\n",
       "   dropoff_longitude  dropoff_latitude  passenger_count  \n",
       "0                  0                 0                0  "
      ]
     },
     "execution_count": 6,
     "metadata": {},
     "output_type": "execute_result"
    }
   ],
   "source": [
    "# Find count for empty, None, Null, Nan with string literals.\n",
    "from pyspark.sql.functions import col,isnan,when,count\n",
    "df2 = sdf_train.select([count(when(col(c).contains('None') | \\\n",
    "                            col(c).contains('NULL') | \\\n",
    "                            (col(c) == '' ) | \\\n",
    "                            col(c).isNull() | \\\n",
    "                            isnan(c), c \n",
    "                           )).alias(c)\n",
    "                    for c in sdf_train.columns])\n",
    "df2.toPandas()"
   ]
  },
  {
   "cell_type": "code",
   "execution_count": 7,
   "id": "67457e16",
   "metadata": {},
   "outputs": [
    {
     "data": {
      "text/plain": [
       "<AxesSubplot:ylabel='Frequency'>"
      ]
     },
     "execution_count": 7,
     "metadata": {},
     "output_type": "execute_result"
    },
    {
     "data": {
      "image/png": "[encoded data removed]",
      "text/plain": [
       "<Figure size 432x360 with 1 Axes>"
      ]
     },
     "metadata": {
      "needs_background": "light"
     },
     "output_type": "display_data"
    }
   ],
   "source": [
    "sdf_train.select('passenger_count').limit(200000).toPandas().plot.hist(figsize=(6,5))"
   ]
  },
  {
   "cell_type": "code",
   "execution_count": 8,
   "id": "8fc0b71f",
   "metadata": {},
   "outputs": [
    {
     "data": {
      "text/plain": [
       "<AxesSubplot:xlabel='passenger_count'>"
      ]
     },
     "execution_count": 8,
     "metadata": {},
     "output_type": "execute_result"
    },
    {
     "data": {
      "image/png": "[encoded data removed]",
      "text/plain": [
       "<Figure size 432x288 with 1 Axes>"
      ]
     },
     "metadata": {
      "needs_background": "light"
     },
     "output_type": "display_data"
    }
   ],
   "source": [
    "sdf_train.select('passenger_count').limit(200000).toPandas().value_counts().plot.bar()"
   ]
  },
  {
   "cell_type": "code",
   "execution_count": 9,
   "id": "bec02fc3",
   "metadata": {},
   "outputs": [
    {
     "name": "stdout",
     "output_type": "stream",
     "text": [
      "(55260, 8)\n",
      "(55260, 8)\n"
     ]
    }
   ],
   "source": [
    "print((sdf_train.count(), len(sdf_train.columns)))\n",
    "sdf_train = sdf_train.na.drop(\"any\")\n",
    "sdf_train = sdf_train.dropDuplicates()\n",
    "print((sdf_train.count(), len(sdf_train.columns)))"
   ]
  },
  {
   "cell_type": "code",
   "execution_count": 10,
   "id": "e3c8e2de",
   "metadata": {},
   "outputs": [
    {
     "data": {
      "text/html": [
       "<div>\n",
       "<style scoped>\n",
       "    .dataframe tbody tr th:only-of-type {\n",
       "        vertical-align: middle;\n",
       "    }\n",
       "\n",
       "    .dataframe tbody tr th {\n",
       "        vertical-align: top;\n",
       "    }\n",
       "\n",
       "    .dataframe thead th {\n",
       "        text-align: right;\n",
       "    }\n",
       "</style>\n",
       "<table border=\"1\" class=\"dataframe\">\n",
       "  <thead>\n",
       "    <tr style=\"text-align: right;\">\n",
       "      <th></th>\n",
       "      <th>key</th>\n",
       "      <th>fare_amount</th>\n",
       "      <th>pickup_datetime</th>\n",
       "      <th>pickup_longitude</th>\n",
       "      <th>pickup_latitude</th>\n",
       "      <th>dropoff_longitude</th>\n",
       "      <th>dropoff_latitude</th>\n",
       "      <th>passenger_count</th>\n",
       "    </tr>\n",
       "  </thead>\n",
       "  <tbody>\n",
       "    <tr>\n",
       "      <th>0</th>\n",
       "      <td>0</td>\n",
       "      <td>0</td>\n",
       "      <td>0</td>\n",
       "      <td>0</td>\n",
       "      <td>0</td>\n",
       "      <td>0</td>\n",
       "      <td>0</td>\n",
       "      <td>0</td>\n",
       "    </tr>\n",
       "  </tbody>\n",
       "</table>\n",
       "</div>"
      ],
      "text/plain": [
       "   key  fare_amount  pickup_datetime  pickup_longitude  pickup_latitude  \\\n",
       "0    0            0                0                 0                0   \n",
       "\n",
       "   dropoff_longitude  dropoff_latitude  passenger_count  \n",
       "0                  0                 0                0  "
      ]
     },
     "execution_count": 10,
     "metadata": {},
     "output_type": "execute_result"
    }
   ],
   "source": [
    "# Find count for empty, None, Null, Nan with string literals.\n",
    "from pyspark.sql.functions import col,isnan,when,count\n",
    "df2 = sdf_train.select([count(when(col(c).contains('None') | \\\n",
    "                            col(c).contains('NULL') | \\\n",
    "                            (col(c) == '' ) | \\\n",
    "                            col(c).isNull() | \\\n",
    "                            isnan(c), c \n",
    "                           )).alias(c)\n",
    "                    for c in sdf_train.columns])\n",
    "df2.toPandas()"
   ]
  },
  {
   "cell_type": "code",
   "execution_count": 11,
   "id": "7cf2d681",
   "metadata": {},
   "outputs": [
    {
     "data": {
      "text/html": [
       "<div>\n",
       "<style scoped>\n",
       "    .dataframe tbody tr th:only-of-type {\n",
       "        vertical-align: middle;\n",
       "    }\n",
       "\n",
       "    .dataframe tbody tr th {\n",
       "        vertical-align: top;\n",
       "    }\n",
       "\n",
       "    .dataframe thead th {\n",
       "        text-align: right;\n",
       "    }\n",
       "</style>\n",
       "<table border=\"1\" class=\"dataframe\">\n",
       "  <thead>\n",
       "    <tr style=\"text-align: right;\">\n",
       "      <th></th>\n",
       "      <th>summary</th>\n",
       "      <th>key</th>\n",
       "      <th>fare_amount</th>\n",
       "      <th>pickup_datetime</th>\n",
       "      <th>pickup_longitude</th>\n",
       "      <th>pickup_latitude</th>\n",
       "      <th>dropoff_longitude</th>\n",
       "      <th>dropoff_latitude</th>\n",
       "      <th>passenger_count</th>\n",
       "    </tr>\n",
       "  </thead>\n",
       "  <tbody>\n",
       "    <tr>\n",
       "      <th>0</th>\n",
       "      <td>count</td>\n",
       "      <td>55260</td>\n",
       "      <td>55260</td>\n",
       "      <td>55260</td>\n",
       "      <td>55260</td>\n",
       "      <td>55260</td>\n",
       "      <td>55260</td>\n",
       "      <td>55260</td>\n",
       "      <td>55260</td>\n",
       "    </tr>\n",
       "    <tr>\n",
       "      <th>1</th>\n",
       "      <td>mean</td>\n",
       "      <td>None</td>\n",
       "      <td>11.277607129931177</td>\n",
       "      <td>None</td>\n",
       "      <td>-72.39760525501451</td>\n",
       "      <td>39.85972333494272</td>\n",
       "      <td>-72.39670562466237</td>\n",
       "      <td>39.84693589881927</td>\n",
       "      <td>1.6887260224393774</td>\n",
       "    </tr>\n",
       "    <tr>\n",
       "      <th>2</th>\n",
       "      <td>stddev</td>\n",
       "      <td>None</td>\n",
       "      <td>9.787154490821832</td>\n",
       "      <td>None</td>\n",
       "      <td>11.850701223940028</td>\n",
       "      <td>6.73282288750667</td>\n",
       "      <td>11.850749273939694</td>\n",
       "      <td>6.363957741642432</td>\n",
       "      <td>1.3177462469383636</td>\n",
       "    </tr>\n",
       "    <tr>\n",
       "      <th>3</th>\n",
       "      <td>min</td>\n",
       "      <td>2009-01-01 01:42:29.0000002</td>\n",
       "      <td>-5.0</td>\n",
       "      <td>2009-01-01 01:42:29 UTC</td>\n",
       "      <td>-1182.902908</td>\n",
       "      <td>-73.999845</td>\n",
       "      <td>-1182.890137</td>\n",
       "      <td>-74.005098</td>\n",
       "      <td>0</td>\n",
       "    </tr>\n",
       "    <tr>\n",
       "      <th>4</th>\n",
       "      <td>max</td>\n",
       "      <td>2015-06-30 22:34:51.0000002</td>\n",
       "      <td>477.92</td>\n",
       "      <td>2015-06-30 22:34:51 UTC</td>\n",
       "      <td>40.815337</td>\n",
       "      <td>405.25</td>\n",
       "      <td>40.820887</td>\n",
       "      <td>48.152353</td>\n",
       "      <td>6</td>\n",
       "    </tr>\n",
       "  </tbody>\n",
       "</table>\n",
       "</div>"
      ],
      "text/plain": [
       "  summary                          key         fare_amount  \\\n",
       "0   count                        55260               55260   \n",
       "1    mean                         None  11.277607129931177   \n",
       "2  stddev                         None   9.787154490821832   \n",
       "3     min  2009-01-01 01:42:29.0000002                -5.0   \n",
       "4     max  2015-06-30 22:34:51.0000002              477.92   \n",
       "\n",
       "           pickup_datetime    pickup_longitude    pickup_latitude  \\\n",
       "0                    55260               55260              55260   \n",
       "1                     None  -72.39760525501451  39.85972333494272   \n",
       "2                     None  11.850701223940028   6.73282288750667   \n",
       "3  2009-01-01 01:42:29 UTC        -1182.902908         -73.999845   \n",
       "4  2015-06-30 22:34:51 UTC           40.815337             405.25   \n",
       "\n",
       "    dropoff_longitude   dropoff_latitude     passenger_count  \n",
       "0               55260              55260               55260  \n",
       "1  -72.39670562466237  39.84693589881927  1.6887260224393774  \n",
       "2  11.850749273939694  6.363957741642432  1.3177462469383636  \n",
       "3        -1182.890137         -74.005098                   0  \n",
       "4           40.820887          48.152353                   6  "
      ]
     },
     "execution_count": 11,
     "metadata": {},
     "output_type": "execute_result"
    }
   ],
   "source": [
    "sdf_train.describe().toPandas()"
   ]
  },
  {
   "cell_type": "markdown",
   "id": "ddd7dfcf",
   "metadata": {},
   "source": [
    "## removing outliers\n"
   ]
  },
  {
   "cell_type": "markdown",
   "id": "873d1e96",
   "metadata": {},
   "source": [
    "using https://www.mapsofworld.com/lat_long/usa-lat-long.html\n",
    "1. for latitude, filter for between 35 and 45\n",
    "2. for longitude, filter for between -70 and -80\n",
    "3. for fare, filter for between 1 to 150\n",
    "4. passenger count couldn't be more than about 6 "
   ]
  },
  {
   "cell_type": "code",
   "execution_count": 12,
   "id": "ae6641fb",
   "metadata": {},
   "outputs": [
    {
     "name": "stdout",
     "output_type": "stream",
     "text": [
      "Before removing outliers: (55260, 8)\n"
     ]
    }
   ],
   "source": [
    "print(\"Before removing outliers:\",(sdf_train.count(), len(sdf_train.columns)))\n",
    "total_rows = sdf_train.count()"
   ]
  },
  {
   "cell_type": "code",
   "execution_count": 13,
   "id": "a9abd44b",
   "metadata": {},
   "outputs": [],
   "source": [
    "# latitude\n",
    "sdf_train = sdf_train.filter(sdf_train[\"pickup_latitude\"]  > 35).filter(sdf_train[\"pickup_latitude\"]  < 45)\n",
    "sdf_train = sdf_train.filter(sdf_train[\"dropoff_latitude\"]  > 35).filter(sdf_train[\"dropoff_latitude\"]  < 45)"
   ]
  },
  {
   "cell_type": "code",
   "execution_count": 14,
   "id": "a5966967",
   "metadata": {},
   "outputs": [],
   "source": [
    "# longitude\n",
    "sdf_train = sdf_train.filter(sdf_train[\"pickup_longitude\"]  > -80).filter(sdf_train[\"pickup_longitude\"]  < -70)\n",
    "sdf_train = sdf_train.filter(sdf_train[\"dropoff_longitude\"]  > -80).filter(sdf_train[\"dropoff_longitude\"]  < -70)"
   ]
  },
  {
   "cell_type": "code",
   "execution_count": 15,
   "id": "ca330892",
   "metadata": {},
   "outputs": [],
   "source": [
    "# fare_amount\n",
    "sdf_train = sdf_train.filter(sdf_train[\"fare_amount\"]  > 0).filter(sdf_train[\"fare_amount\"]  < 150)"
   ]
  },
  {
   "cell_type": "code",
   "execution_count": 16,
   "id": "5764a50b",
   "metadata": {},
   "outputs": [],
   "source": [
    "# passenger_count\n",
    "sdf_train = sdf_train.filter(sdf_train[\"passenger_count\"]  > 0).filter(sdf_train[\"passenger_count\"]  < 7)"
   ]
  },
  {
   "cell_type": "code",
   "execution_count": 17,
   "id": "38b02ac2",
   "metadata": {},
   "outputs": [
    {
     "name": "stdout",
     "output_type": "stream",
     "text": [
      "After removing outliers: (53831, 8)\n"
     ]
    }
   ],
   "source": [
    "print(\"After removing outliers:\",(sdf_train.count(), len(sdf_train.columns)))"
   ]
  },
  {
   "cell_type": "code",
   "execution_count": 18,
   "id": "b2900687",
   "metadata": {},
   "outputs": [
    {
     "name": "stdout",
     "output_type": "stream",
     "text": [
      "rows removed: -1429\n"
     ]
    }
   ],
   "source": [
    "print(\"rows removed:\", sdf_train.count() - total_rows)"
   ]
  },
  {
   "cell_type": "code",
   "execution_count": 19,
   "id": "69238ba1",
   "metadata": {},
   "outputs": [
    {
     "data": {
      "text/html": [
       "<div>\n",
       "<style scoped>\n",
       "    .dataframe tbody tr th:only-of-type {\n",
       "        vertical-align: middle;\n",
       "    }\n",
       "\n",
       "    .dataframe tbody tr th {\n",
       "        vertical-align: top;\n",
       "    }\n",
       "\n",
       "    .dataframe thead th {\n",
       "        text-align: right;\n",
       "    }\n",
       "</style>\n",
       "<table border=\"1\" class=\"dataframe\">\n",
       "  <thead>\n",
       "    <tr style=\"text-align: right;\">\n",
       "      <th></th>\n",
       "      <th>summary</th>\n",
       "      <th>key</th>\n",
       "      <th>fare_amount</th>\n",
       "      <th>pickup_datetime</th>\n",
       "      <th>pickup_longitude</th>\n",
       "      <th>pickup_latitude</th>\n",
       "      <th>dropoff_longitude</th>\n",
       "      <th>dropoff_latitude</th>\n",
       "      <th>passenger_count</th>\n",
       "    </tr>\n",
       "  </thead>\n",
       "  <tbody>\n",
       "    <tr>\n",
       "      <th>0</th>\n",
       "      <td>count</td>\n",
       "      <td>53831</td>\n",
       "      <td>53831</td>\n",
       "      <td>53831</td>\n",
       "      <td>53831</td>\n",
       "      <td>53831</td>\n",
       "      <td>53831</td>\n",
       "      <td>53831</td>\n",
       "      <td>53831</td>\n",
       "    </tr>\n",
       "    <tr>\n",
       "      <th>1</th>\n",
       "      <td>mean</td>\n",
       "      <td>None</td>\n",
       "      <td>11.256136055432687</td>\n",
       "      <td>None</td>\n",
       "      <td>-73.97557827513272</td>\n",
       "      <td>40.75128651810459</td>\n",
       "      <td>-73.97458237661</td>\n",
       "      <td>40.75151686999541</td>\n",
       "      <td>1.6931322100648325</td>\n",
       "    </tr>\n",
       "    <tr>\n",
       "      <th>2</th>\n",
       "      <td>stddev</td>\n",
       "      <td>None</td>\n",
       "      <td>9.396255839572671</td>\n",
       "      <td>None</td>\n",
       "      <td>0.039763779117670095</td>\n",
       "      <td>0.0310687834450233</td>\n",
       "      <td>0.038089534791893684</td>\n",
       "      <td>0.035940725939944705</td>\n",
       "      <td>1.3149128987233631</td>\n",
       "    </tr>\n",
       "    <tr>\n",
       "      <th>3</th>\n",
       "      <td>min</td>\n",
       "      <td>2009-01-01 01:42:29.0000002</td>\n",
       "      <td>0.04</td>\n",
       "      <td>2009-01-01 01:42:29 UTC</td>\n",
       "      <td>-76.488493</td>\n",
       "      <td>39.605168823685</td>\n",
       "      <td>-76.520118</td>\n",
       "      <td>39.603141808779</td>\n",
       "      <td>1</td>\n",
       "    </tr>\n",
       "    <tr>\n",
       "      <th>4</th>\n",
       "      <td>max</td>\n",
       "      <td>2015-06-30 22:34:51.0000002</td>\n",
       "      <td>145.0</td>\n",
       "      <td>2015-06-30 22:34:51 UTC</td>\n",
       "      <td>-73.110473</td>\n",
       "      <td>42.420248</td>\n",
       "      <td>-73.137393</td>\n",
       "      <td>42.424223</td>\n",
       "      <td>6</td>\n",
       "    </tr>\n",
       "  </tbody>\n",
       "</table>\n",
       "</div>"
      ],
      "text/plain": [
       "  summary                          key         fare_amount  \\\n",
       "0   count                        53831               53831   \n",
       "1    mean                         None  11.256136055432687   \n",
       "2  stddev                         None   9.396255839572671   \n",
       "3     min  2009-01-01 01:42:29.0000002                0.04   \n",
       "4     max  2015-06-30 22:34:51.0000002               145.0   \n",
       "\n",
       "           pickup_datetime      pickup_longitude     pickup_latitude  \\\n",
       "0                    53831                 53831               53831   \n",
       "1                     None    -73.97557827513272   40.75128651810459   \n",
       "2                     None  0.039763779117670095  0.0310687834450233   \n",
       "3  2009-01-01 01:42:29 UTC            -76.488493     39.605168823685   \n",
       "4  2015-06-30 22:34:51 UTC            -73.110473           42.420248   \n",
       "\n",
       "      dropoff_longitude      dropoff_latitude     passenger_count  \n",
       "0                 53831                 53831               53831  \n",
       "1       -73.97458237661     40.75151686999541  1.6931322100648325  \n",
       "2  0.038089534791893684  0.035940725939944705  1.3149128987233631  \n",
       "3            -76.520118       39.603141808779                   1  \n",
       "4            -73.137393             42.424223                   6  "
      ]
     },
     "execution_count": 19,
     "metadata": {},
     "output_type": "execute_result"
    }
   ],
   "source": [
    "sdf_train.describe().toPandas()"
   ]
  },
  {
   "cell_type": "markdown",
   "id": "cc7477da",
   "metadata": {},
   "source": [
    "## random visualisation"
   ]
  },
  {
   "cell_type": "code",
   "execution_count": 20,
   "id": "10fb7b15",
   "metadata": {},
   "outputs": [
    {
     "data": {
      "image/png": "[encoded data removed]",
      "text/plain": [
       "<Figure size 864x360 with 1 Axes>"
      ]
     },
     "metadata": {
      "needs_background": "light"
     },
     "output_type": "display_data"
    }
   ],
   "source": [
    "import pandas as pd\n",
    "pdate = pd.to_datetime(sdf_train.select('pickup_datetime').limit(80000).toPandas()['pickup_datetime'],  format='%Y-%m-%d %H:%M:%S UTC')\n",
    "pfare = sdf_train.select('fare_amount').limit(80000).toPandas()['fare_amount']\n",
    "df = pd.DataFrame(columns = ['date of journey', 'fare price'])\n",
    "df['date of journey'] = pdate\n",
    "df['fare price'] = pfare\n",
    "# df['MA'] = df['fare price'].rolling(window=100).mean()\n",
    "df.sort_values('date of journey', inplace=True)\n",
    "df.plot('date of journey', 'fare price', figsize=(12,5));"
   ]
  },
  {
   "cell_type": "markdown",
   "id": "16e11e9b",
   "metadata": {},
   "source": [
    "# 3. Data preparation "
   ]
  },
  {
   "cell_type": "markdown",
   "id": "cccb1e4b",
   "metadata": {},
   "source": [
    "we know 1 degree of latitude is 11 kms around about https://www.usgs.gov/faqs/how-much-distance-does-degree-minute-and-second-cover-your-maps\n",
    "\n",
    "and 1 degree of longitude is 87 kms "
   ]
  },
  {
   "cell_type": "markdown",
   "id": "f7abafa2",
   "metadata": {},
   "source": [
    "create two new columns which the distance of the journey as the crow flies in kms. "
   ]
  },
  {
   "cell_type": "markdown",
   "id": "f69240b9",
   "metadata": {},
   "source": [
    "### make features from the lat & longs"
   ]
  },
  {
   "cell_type": "code",
   "execution_count": 21,
   "id": "bc7bf8d2",
   "metadata": {},
   "outputs": [],
   "source": [
    "from  pyspark.sql.functions import abs\n",
    "from  pyspark.sql.functions import sqrt\n",
    "sdf_train = sdf_train.withColumn('diff_longitude', abs( sdf_train['dropoff_longitude'] - sdf_train['pickup_longitude'] )*87 )\n",
    "sdf_train = sdf_train.withColumn('diff_latitude', abs( sdf_train['dropoff_latitude'] - sdf_train['pickup_latitude'] )*111 )\n",
    "sdf_train = sdf_train.withColumn('crow_distance', sqrt((sdf_train['diff_longitude']**2) + (sdf_train['diff_latitude']**2))  )"
   ]
  },
  {
   "cell_type": "code",
   "execution_count": 22,
   "id": "649522fe",
   "metadata": {},
   "outputs": [
    {
     "data": {
      "text/html": [
       "<div>\n",
       "<style scoped>\n",
       "    .dataframe tbody tr th:only-of-type {\n",
       "        vertical-align: middle;\n",
       "    }\n",
       "\n",
       "    .dataframe tbody tr th {\n",
       "        vertical-align: top;\n",
       "    }\n",
       "\n",
       "    .dataframe thead th {\n",
       "        text-align: right;\n",
       "    }\n",
       "</style>\n",
       "<table border=\"1\" class=\"dataframe\">\n",
       "  <thead>\n",
       "    <tr style=\"text-align: right;\">\n",
       "      <th></th>\n",
       "      <th>0</th>\n",
       "      <th>1</th>\n",
       "      <th>2</th>\n",
       "      <th>3</th>\n",
       "      <th>4</th>\n",
       "      <th>5</th>\n",
       "      <th>6</th>\n",
       "      <th>7</th>\n",
       "      <th>8</th>\n",
       "      <th>9</th>\n",
       "    </tr>\n",
       "  </thead>\n",
       "  <tbody>\n",
       "    <tr>\n",
       "      <th>crow_distance</th>\n",
       "      <td>0.939552</td>\n",
       "      <td>0.911767</td>\n",
       "      <td>1.100568</td>\n",
       "      <td>4.401907</td>\n",
       "      <td>2.015608</td>\n",
       "      <td>0.818559</td>\n",
       "      <td>3.889486</td>\n",
       "      <td>6.415202</td>\n",
       "      <td>12.225456</td>\n",
       "      <td>0.935849</td>\n",
       "    </tr>\n",
       "  </tbody>\n",
       "</table>\n",
       "</div>"
      ],
      "text/plain": [
       "                      0         1         2         3         4         5  \\\n",
       "crow_distance  0.939552  0.911767  1.100568  4.401907  2.015608  0.818559   \n",
       "\n",
       "                      6         7          8         9  \n",
       "crow_distance  3.889486  6.415202  12.225456  0.935849  "
      ]
     },
     "execution_count": 22,
     "metadata": {},
     "output_type": "execute_result"
    }
   ],
   "source": [
    "sdf_train.select('crow_distance').limit(10).toPandas().T"
   ]
  },
  {
   "cell_type": "code",
   "execution_count": 23,
   "id": "750d073b",
   "metadata": {},
   "outputs": [
    {
     "data": {
      "text/html": [
       "<div>\n",
       "<style scoped>\n",
       "    .dataframe tbody tr th:only-of-type {\n",
       "        vertical-align: middle;\n",
       "    }\n",
       "\n",
       "    .dataframe tbody tr th {\n",
       "        vertical-align: top;\n",
       "    }\n",
       "\n",
       "    .dataframe thead th {\n",
       "        text-align: right;\n",
       "    }\n",
       "</style>\n",
       "<table border=\"1\" class=\"dataframe\">\n",
       "  <thead>\n",
       "    <tr style=\"text-align: right;\">\n",
       "      <th></th>\n",
       "      <th>0</th>\n",
       "      <th>1</th>\n",
       "      <th>2</th>\n",
       "      <th>3</th>\n",
       "      <th>4</th>\n",
       "      <th>5</th>\n",
       "      <th>6</th>\n",
       "      <th>7</th>\n",
       "      <th>8</th>\n",
       "      <th>9</th>\n",
       "    </tr>\n",
       "  </thead>\n",
       "  <tbody>\n",
       "    <tr>\n",
       "      <th>dropoff_longitude</th>\n",
       "      <td>-73.964351</td>\n",
       "      <td>-73.962065</td>\n",
       "      <td>-73.993904</td>\n",
       "      <td>-73.98648</td>\n",
       "      <td>-74.006528</td>\n",
       "      <td>-73.972447</td>\n",
       "      <td>-73.97688</td>\n",
       "      <td>-73.947088</td>\n",
       "      <td>-73.861265</td>\n",
       "      <td>-74.000228</td>\n",
       "    </tr>\n",
       "  </tbody>\n",
       "</table>\n",
       "</div>"
      ],
      "text/plain": [
       "                           0          1          2         3          4  \\\n",
       "dropoff_longitude -73.964351 -73.962065 -73.993904 -73.98648 -74.006528   \n",
       "\n",
       "                           5         6          7          8          9  \n",
       "dropoff_longitude -73.972447 -73.97688 -73.947088 -73.861265 -74.000228  "
      ]
     },
     "execution_count": 23,
     "metadata": {},
     "output_type": "execute_result"
    }
   ],
   "source": [
    "sdf_train.select('dropoff_longitude').limit(10).toPandas().T"
   ]
  },
  {
   "cell_type": "code",
   "execution_count": 24,
   "id": "1f00cfef",
   "metadata": {},
   "outputs": [
    {
     "data": {
      "image/png": "[encoded data removed]",
      "text/plain": [
       "<Figure size 576x576 with 1 Axes>"
      ]
     },
     "metadata": {
      "needs_background": "light"
     },
     "output_type": "display_data"
    }
   ],
   "source": [
    "sdf_train.select('diff_latitude','diff_longitude').limit(20000).toPandas().plot.scatter('diff_latitude','diff_longitude',figsize=(8,8));"
   ]
  },
  {
   "cell_type": "code",
   "execution_count": 25,
   "id": "f594d8a4",
   "metadata": {},
   "outputs": [
    {
     "data": {
      "image/png": "[encoded data removed]",
      "text/plain": [
       "<Figure size 864x288 with 1 Axes>"
      ]
     },
     "metadata": {
      "needs_background": "light"
     },
     "output_type": "display_data"
    }
   ],
   "source": [
    "sdf_train.select('crow_distance').limit(10000).toPandas()['crow_distance'].plot.hist(bins=100, log=True, figsize=(12,4));"
   ]
  },
  {
   "cell_type": "markdown",
   "id": "35c159a3",
   "metadata": {},
   "source": [
    "### adding weekday, year and time features"
   ]
  },
  {
   "cell_type": "code",
   "execution_count": 26,
   "id": "0d5cae01",
   "metadata": {},
   "outputs": [],
   "source": [
    "from pyspark.sql.functions import date_format\n",
    "sdf_train = sdf_train.withColumn(\"pickup_weekday\", date_format(\"pickup_datetime\", \"E\"))\n",
    "sdf_train = sdf_train.withColumn(\"pickup_hour\", date_format(\"pickup_datetime\", \"H\").cast(\"int\"))\n",
    "sdf_train = sdf_train.withColumn(\"pickup_year\", date_format(\"pickup_datetime\", \"y\").cast(\"int\"))\n",
    "#.withColumn(\"pickup_hour\", date_format(\"pickup_datetime\", \"H\")).withColumn(\"pickup_month\", date_format(\"pickup_datetime\", \"M\"))"
   ]
  },
  {
   "cell_type": "code",
   "execution_count": 27,
   "id": "db85393d",
   "metadata": {},
   "outputs": [
    {
     "data": {
      "text/html": [
       "<div>\n",
       "<style scoped>\n",
       "    .dataframe tbody tr th:only-of-type {\n",
       "        vertical-align: middle;\n",
       "    }\n",
       "\n",
       "    .dataframe tbody tr th {\n",
       "        vertical-align: top;\n",
       "    }\n",
       "\n",
       "    .dataframe thead th {\n",
       "        text-align: right;\n",
       "    }\n",
       "</style>\n",
       "<table border=\"1\" class=\"dataframe\">\n",
       "  <thead>\n",
       "    <tr style=\"text-align: right;\">\n",
       "      <th></th>\n",
       "      <th>0</th>\n",
       "      <th>1</th>\n",
       "      <th>2</th>\n",
       "      <th>3</th>\n",
       "      <th>4</th>\n",
       "      <th>5</th>\n",
       "      <th>6</th>\n",
       "      <th>7</th>\n",
       "      <th>8</th>\n",
       "      <th>9</th>\n",
       "    </tr>\n",
       "  </thead>\n",
       "  <tbody>\n",
       "    <tr>\n",
       "      <th>pickup_weekday</th>\n",
       "      <td>Mon</td>\n",
       "      <td>Mon</td>\n",
       "      <td>Sat</td>\n",
       "      <td>Sun</td>\n",
       "      <td>Fri</td>\n",
       "      <td>Tue</td>\n",
       "      <td>Wed</td>\n",
       "      <td>Wed</td>\n",
       "      <td>Sun</td>\n",
       "      <td>Thu</td>\n",
       "    </tr>\n",
       "  </tbody>\n",
       "</table>\n",
       "</div>"
      ],
      "text/plain": [
       "                  0    1    2    3    4    5    6    7    8    9\n",
       "pickup_weekday  Mon  Mon  Sat  Sun  Fri  Tue  Wed  Wed  Sun  Thu"
      ]
     },
     "execution_count": 27,
     "metadata": {},
     "output_type": "execute_result"
    }
   ],
   "source": [
    "sdf_train.select('pickup_weekday').limit(10).toPandas().T"
   ]
  },
  {
   "cell_type": "code",
   "execution_count": 28,
   "id": "551b325f",
   "metadata": {},
   "outputs": [
    {
     "data": {
      "text/html": [
       "<div>\n",
       "<style scoped>\n",
       "    .dataframe tbody tr th:only-of-type {\n",
       "        vertical-align: middle;\n",
       "    }\n",
       "\n",
       "    .dataframe tbody tr th {\n",
       "        vertical-align: top;\n",
       "    }\n",
       "\n",
       "    .dataframe thead th {\n",
       "        text-align: right;\n",
       "    }\n",
       "</style>\n",
       "<table border=\"1\" class=\"dataframe\">\n",
       "  <thead>\n",
       "    <tr style=\"text-align: right;\">\n",
       "      <th></th>\n",
       "      <th>0</th>\n",
       "      <th>1</th>\n",
       "      <th>2</th>\n",
       "      <th>3</th>\n",
       "      <th>4</th>\n",
       "      <th>5</th>\n",
       "      <th>6</th>\n",
       "      <th>7</th>\n",
       "      <th>8</th>\n",
       "      <th>9</th>\n",
       "    </tr>\n",
       "  </thead>\n",
       "  <tbody>\n",
       "    <tr>\n",
       "      <th>pickup_datetime</th>\n",
       "      <td>2013-03-25 18:31:37 UTC</td>\n",
       "      <td>2013-05-13 17:39:00 UTC</td>\n",
       "      <td>2009-04-11 22:31:59 UTC</td>\n",
       "      <td>2012-03-11 00:25:00 UTC</td>\n",
       "      <td>2009-05-15 01:41:35 UTC</td>\n",
       "      <td>2009-04-28 20:46:47 UTC</td>\n",
       "      <td>2014-08-06 22:38:00 UTC</td>\n",
       "      <td>2013-07-17 21:17:33 UTC</td>\n",
       "      <td>2013-04-07 14:05:00 UTC</td>\n",
       "      <td>2013-11-07 09:54:00 UTC</td>\n",
       "    </tr>\n",
       "  </tbody>\n",
       "</table>\n",
       "</div>"
      ],
      "text/plain": [
       "                                       0                        1  \\\n",
       "pickup_datetime  2013-03-25 18:31:37 UTC  2013-05-13 17:39:00 UTC   \n",
       "\n",
       "                                       2                        3  \\\n",
       "pickup_datetime  2009-04-11 22:31:59 UTC  2012-03-11 00:25:00 UTC   \n",
       "\n",
       "                                       4                        5  \\\n",
       "pickup_datetime  2009-05-15 01:41:35 UTC  2009-04-28 20:46:47 UTC   \n",
       "\n",
       "                                       6                        7  \\\n",
       "pickup_datetime  2014-08-06 22:38:00 UTC  2013-07-17 21:17:33 UTC   \n",
       "\n",
       "                                       8                        9  \n",
       "pickup_datetime  2013-04-07 14:05:00 UTC  2013-11-07 09:54:00 UTC  "
      ]
     },
     "execution_count": 28,
     "metadata": {},
     "output_type": "execute_result"
    }
   ],
   "source": [
    "sdf_train.select('pickup_datetime').limit(10).toPandas().T"
   ]
  },
  {
   "cell_type": "code",
   "execution_count": 29,
   "id": "90e081bd",
   "metadata": {},
   "outputs": [
    {
     "data": {
      "text/html": [
       "<div>\n",
       "<style scoped>\n",
       "    .dataframe tbody tr th:only-of-type {\n",
       "        vertical-align: middle;\n",
       "    }\n",
       "\n",
       "    .dataframe tbody tr th {\n",
       "        vertical-align: top;\n",
       "    }\n",
       "\n",
       "    .dataframe thead th {\n",
       "        text-align: right;\n",
       "    }\n",
       "</style>\n",
       "<table border=\"1\" class=\"dataframe\">\n",
       "  <thead>\n",
       "    <tr style=\"text-align: right;\">\n",
       "      <th></th>\n",
       "      <th>0</th>\n",
       "      <th>1</th>\n",
       "      <th>2</th>\n",
       "      <th>3</th>\n",
       "      <th>4</th>\n",
       "      <th>5</th>\n",
       "      <th>6</th>\n",
       "      <th>7</th>\n",
       "      <th>8</th>\n",
       "      <th>9</th>\n",
       "    </tr>\n",
       "  </thead>\n",
       "  <tbody>\n",
       "    <tr>\n",
       "      <th>pickup_hour</th>\n",
       "      <td>18</td>\n",
       "      <td>17</td>\n",
       "      <td>22</td>\n",
       "      <td>0</td>\n",
       "      <td>1</td>\n",
       "      <td>20</td>\n",
       "      <td>22</td>\n",
       "      <td>21</td>\n",
       "      <td>14</td>\n",
       "      <td>9</td>\n",
       "    </tr>\n",
       "  </tbody>\n",
       "</table>\n",
       "</div>"
      ],
      "text/plain": [
       "              0   1   2  3  4   5   6   7   8  9\n",
       "pickup_hour  18  17  22  0  1  20  22  21  14  9"
      ]
     },
     "execution_count": 29,
     "metadata": {},
     "output_type": "execute_result"
    }
   ],
   "source": [
    "sdf_train.select('pickup_hour').limit(10).toPandas().T"
   ]
  },
  {
   "cell_type": "code",
   "execution_count": 30,
   "id": "f9923714",
   "metadata": {},
   "outputs": [
    {
     "data": {
      "text/html": [
       "<div>\n",
       "<style scoped>\n",
       "    .dataframe tbody tr th:only-of-type {\n",
       "        vertical-align: middle;\n",
       "    }\n",
       "\n",
       "    .dataframe tbody tr th {\n",
       "        vertical-align: top;\n",
       "    }\n",
       "\n",
       "    .dataframe thead th {\n",
       "        text-align: right;\n",
       "    }\n",
       "</style>\n",
       "<table border=\"1\" class=\"dataframe\">\n",
       "  <thead>\n",
       "    <tr style=\"text-align: right;\">\n",
       "      <th></th>\n",
       "      <th>Column Name</th>\n",
       "      <th>Data type</th>\n",
       "    </tr>\n",
       "  </thead>\n",
       "  <tbody>\n",
       "    <tr>\n",
       "      <th>0</th>\n",
       "      <td>key</td>\n",
       "      <td>string</td>\n",
       "    </tr>\n",
       "    <tr>\n",
       "      <th>1</th>\n",
       "      <td>fare_amount</td>\n",
       "      <td>double</td>\n",
       "    </tr>\n",
       "    <tr>\n",
       "      <th>2</th>\n",
       "      <td>pickup_datetime</td>\n",
       "      <td>string</td>\n",
       "    </tr>\n",
       "    <tr>\n",
       "      <th>3</th>\n",
       "      <td>pickup_longitude</td>\n",
       "      <td>double</td>\n",
       "    </tr>\n",
       "    <tr>\n",
       "      <th>4</th>\n",
       "      <td>pickup_latitude</td>\n",
       "      <td>double</td>\n",
       "    </tr>\n",
       "    <tr>\n",
       "      <th>5</th>\n",
       "      <td>dropoff_longitude</td>\n",
       "      <td>double</td>\n",
       "    </tr>\n",
       "    <tr>\n",
       "      <th>6</th>\n",
       "      <td>dropoff_latitude</td>\n",
       "      <td>double</td>\n",
       "    </tr>\n",
       "    <tr>\n",
       "      <th>7</th>\n",
       "      <td>passenger_count</td>\n",
       "      <td>int</td>\n",
       "    </tr>\n",
       "    <tr>\n",
       "      <th>8</th>\n",
       "      <td>diff_longitude</td>\n",
       "      <td>double</td>\n",
       "    </tr>\n",
       "    <tr>\n",
       "      <th>9</th>\n",
       "      <td>diff_latitude</td>\n",
       "      <td>double</td>\n",
       "    </tr>\n",
       "    <tr>\n",
       "      <th>10</th>\n",
       "      <td>crow_distance</td>\n",
       "      <td>double</td>\n",
       "    </tr>\n",
       "    <tr>\n",
       "      <th>11</th>\n",
       "      <td>pickup_weekday</td>\n",
       "      <td>string</td>\n",
       "    </tr>\n",
       "    <tr>\n",
       "      <th>12</th>\n",
       "      <td>pickup_hour</td>\n",
       "      <td>int</td>\n",
       "    </tr>\n",
       "    <tr>\n",
       "      <th>13</th>\n",
       "      <td>pickup_year</td>\n",
       "      <td>int</td>\n",
       "    </tr>\n",
       "  </tbody>\n",
       "</table>\n",
       "</div>"
      ],
      "text/plain": [
       "          Column Name Data type\n",
       "0                 key    string\n",
       "1         fare_amount    double\n",
       "2     pickup_datetime    string\n",
       "3    pickup_longitude    double\n",
       "4     pickup_latitude    double\n",
       "5   dropoff_longitude    double\n",
       "6    dropoff_latitude    double\n",
       "7     passenger_count       int\n",
       "8      diff_longitude    double\n",
       "9       diff_latitude    double\n",
       "10      crow_distance    double\n",
       "11     pickup_weekday    string\n",
       "12        pickup_hour       int\n",
       "13        pickup_year       int"
      ]
     },
     "execution_count": 30,
     "metadata": {},
     "output_type": "execute_result"
    }
   ],
   "source": [
    "#column overview\n",
    "pd.DataFrame(sdf_train.dtypes, columns = ['Column Name','Data type'])"
   ]
  },
  {
   "cell_type": "markdown",
   "id": "0e2cc4c4",
   "metadata": {},
   "source": [
    "## more random visualisations"
   ]
  },
  {
   "cell_type": "code",
   "execution_count": 31,
   "id": "39288f79",
   "metadata": {},
   "outputs": [
    {
     "data": {
      "text/plain": [
       "<AxesSubplot:xlabel='crow_distance', ylabel='fare_amount'>"
      ]
     },
     "execution_count": 31,
     "metadata": {},
     "output_type": "execute_result"
    },
    {
     "data": {
      "image/png": "[encoded data removed]",
      "text/plain": [
       "<Figure size 432x288 with 1 Axes>"
      ]
     },
     "metadata": {
      "needs_background": "light"
     },
     "output_type": "display_data"
    }
   ],
   "source": [
    "import seaborn as sns\n",
    "sns.scatterplot(x = sdf_train.select('crow_distance').toPandas()['crow_distance'], \n",
    "                y = sdf_train.select('fare_amount').toPandas()['fare_amount'] )"
   ]
  },
  {
   "cell_type": "code",
   "execution_count": 32,
   "id": "593ecab4",
   "metadata": {},
   "outputs": [
    {
     "data": {
      "text/plain": [
       "<AxesSubplot:>"
      ]
     },
     "execution_count": 32,
     "metadata": {},
     "output_type": "execute_result"
    },
    {
     "data": {
      "image/png": "[encoded data removed]",
      "text/plain": [
       "<Figure size 432x288 with 1 Axes>"
      ]
     },
     "metadata": {
      "needs_background": "light"
     },
     "output_type": "display_data"
    }
   ],
   "source": [
    "sdf_train.select('pickup_hour').toPandas()['pickup_hour'].value_counts().sort_index().plot(kind = 'barh')"
   ]
  },
  {
   "cell_type": "code",
   "execution_count": 33,
   "id": "4a203790",
   "metadata": {},
   "outputs": [
    {
     "data": {
      "text/plain": [
       "<AxesSubplot:>"
      ]
     },
     "execution_count": 33,
     "metadata": {},
     "output_type": "execute_result"
    },
    {
     "data": {
      "image/png": "[encoded data removed]",
      "text/plain": [
       "<Figure size 432x288 with 1 Axes>"
      ]
     },
     "metadata": {
      "needs_background": "light"
     },
     "output_type": "display_data"
    }
   ],
   "source": [
    "sdf_train.select('pickup_weekday').toPandas()['pickup_weekday'].value_counts().sort_index().plot(kind = 'barh')"
   ]
  },
  {
   "cell_type": "code",
   "execution_count": 34,
   "id": "f2a08b37",
   "metadata": {},
   "outputs": [
    {
     "data": {
      "text/plain": [
       "<AxesSubplot:>"
      ]
     },
     "execution_count": 34,
     "metadata": {},
     "output_type": "execute_result"
    },
    {
     "data": {
      "image/png": "[encoded data removed]",
      "text/plain": [
       "<Figure size 432x288 with 1 Axes>"
      ]
     },
     "metadata": {
      "needs_background": "light"
     },
     "output_type": "display_data"
    }
   ],
   "source": [
    "sdf_train.select('pickup_year').toPandas()['pickup_year'].value_counts().sort_index().plot(kind = 'barh')"
   ]
  },
  {
   "cell_type": "markdown",
   "id": "5ff53a42",
   "metadata": {},
   "source": [
    "# 4. Feature Selection"
   ]
  },
  {
   "cell_type": "code",
   "execution_count": 35,
   "id": "25065ffa",
   "metadata": {},
   "outputs": [
    {
     "data": {
      "text/plain": [
       "[('key', 'string'),\n",
       " ('fare_amount', 'double'),\n",
       " ('pickup_datetime', 'string'),\n",
       " ('pickup_longitude', 'double'),\n",
       " ('pickup_latitude', 'double'),\n",
       " ('dropoff_longitude', 'double'),\n",
       " ('dropoff_latitude', 'double'),\n",
       " ('passenger_count', 'int'),\n",
       " ('diff_longitude', 'double'),\n",
       " ('diff_latitude', 'double'),\n",
       " ('crow_distance', 'double'),\n",
       " ('pickup_weekday', 'string'),\n",
       " ('pickup_hour', 'int'),\n",
       " ('pickup_year', 'int')]"
      ]
     },
     "execution_count": 35,
     "metadata": {},
     "output_type": "execute_result"
    }
   ],
   "source": [
    "sdf_train.dtypes"
   ]
  },
  {
   "cell_type": "code",
   "execution_count": 36,
   "id": "d1cc283e",
   "metadata": {},
   "outputs": [],
   "source": [
    "str_features = [] \n",
    "num_features = []\n",
    "for col in  sdf_train.dtypes:\n",
    "    if \"latitude\" in col[0]:\n",
    "        continue\n",
    "    if \"longitude\" in col[0]:\n",
    "        continue    \n",
    "    if \"key\" == col[0]:\n",
    "        continue    \n",
    "    if \"pickup_datetime\" == col[0]:\n",
    "        continue  \n",
    "    if col[1] == 'string':\n",
    "        str_features += [col[0]]\n",
    "    else:\n",
    "        num_features += [col[0]]\n",
    "\n",
    "sdf_train_filter = sdf_train.select(num_features + str_features)\n",
    "num_features.remove('fare_amount')"
   ]
  },
  {
   "cell_type": "code",
   "execution_count": 37,
   "id": "b445acad",
   "metadata": {},
   "outputs": [
    {
     "name": "stdout",
     "output_type": "stream",
     "text": [
      "str_features : ['pickup_weekday']\n",
      "num_features: ['passenger_count', 'crow_distance', 'pickup_hour', 'pickup_year']\n"
     ]
    }
   ],
   "source": [
    "print(f'str_features : {str_features}')\n",
    "print(f'num_features: {num_features}')"
   ]
  },
  {
   "cell_type": "markdown",
   "id": "48c5743b",
   "metadata": {},
   "source": [
    "# 5. Model selection"
   ]
  },
  {
   "cell_type": "code",
   "execution_count": 38,
   "id": "042c73c5",
   "metadata": {},
   "outputs": [],
   "source": [
    "from pyspark.ml.feature import StringIndexer, VectorAssembler, VectorIndexer\n",
    "\n",
    "pipeline_stages = []\n",
    "str_indexer = [StringIndexer(inputCol=column,\n",
    "                           outputCol=f'{column}_StringIndexer',\n",
    "                            handleInvalid='keep') \n",
    "               for column in str_features]\n",
    "pipeline_stages += str_indexer\n",
    "\n",
    "assembler_input = [f for f in num_features] \n",
    "assembler_input += [f'{column}_StringIndexer' \n",
    "                    for column  in str_features] \n",
    "feature_vector = VectorAssembler(inputCols=assembler_input, \n",
    "                                 outputCol='features', \n",
    "                                 handleInvalid = 'keep' )\n",
    "pipeline_stages += [feature_vector]\n",
    "\n",
    "vect_indexer = VectorIndexer(inputCol='features', \n",
    "                             outputCol= 'features_indexed', \n",
    "                             handleInvalid = 'keep' )\n",
    "pipeline_stages += [vect_indexer]\n",
    "\n",
    "\n",
    "from pyspark.ml.regression import LinearRegression\n",
    "LR = LinearRegression(featuresCol='features_indexed', \n",
    "                      labelCol= 'fare_amount',\n",
    "                     maxIter=10,\n",
    "                     regParam=0.3,\n",
    "                     elasticNetParam=0.8)\n",
    "pipeline_stages += [LR]"
   ]
  },
  {
   "cell_type": "markdown",
   "id": "14334186",
   "metadata": {},
   "source": [
    "# 6. Test Train split "
   ]
  },
  {
   "cell_type": "code",
   "execution_count": 39,
   "id": "d1fc9d6c",
   "metadata": {},
   "outputs": [],
   "source": [
    "trainTest = sdf_train_filter.randomSplit([0.8, 0.2])\n",
    "traindf = trainTest[0]\n",
    "testdf = trainTest[1]"
   ]
  },
  {
   "cell_type": "markdown",
   "id": "5e5dc1aa",
   "metadata": {},
   "source": [
    "# 6. Run Pipeline"
   ]
  },
  {
   "cell_type": "code",
   "execution_count": 40,
   "id": "b4d49d8a",
   "metadata": {},
   "outputs": [
    {
     "name": "stdout",
     "output_type": "stream",
     "text": [
      "CPU times: user 60 ms, sys: 19.2 ms, total: 79.1 ms\n",
      "Wall time: 3min 5s\n"
     ]
    }
   ],
   "source": [
    "%%time\n",
    "from pyspark.ml.pipeline import Pipeline\n",
    "ml_pipeline = Pipeline(stages=pipeline_stages)\n",
    "model_lr = ml_pipeline.fit(traindf)"
   ]
  },
  {
   "cell_type": "markdown",
   "id": "d1016700",
   "metadata": {},
   "source": [
    "# 7. Evaluation (LR)\n"
   ]
  },
  {
   "cell_type": "code",
   "execution_count": 41,
   "id": "4e766a48",
   "metadata": {},
   "outputs": [
    {
     "name": "stdout",
     "output_type": "stream",
     "text": [
      "Root Mean Squared Error (RMSE) on test data = 5.501154116198939\n"
     ]
    }
   ],
   "source": [
    "from pyspark.ml.evaluation import RegressionEvaluator\n",
    "evaluator = RegressionEvaluator(labelCol=\"fare_amount\", predictionCol = \"prediction\", metricName = \"rmse\")\n",
    "predictions = model_lr.transform(testdf)\n",
    "rmse_lr = evaluator.evaluate(predictions)\n",
    "print(f\"Root Mean Squared Error (RMSE) on test data = {rmse_lr}\")"
   ]
  },
  {
   "cell_type": "markdown",
   "id": "62b2c2d5",
   "metadata": {},
   "source": [
    "## 7.1 Evaluation (DT)"
   ]
  },
  {
   "cell_type": "code",
   "execution_count": 42,
   "id": "9a59fb1e",
   "metadata": {},
   "outputs": [
    {
     "name": "stdout",
     "output_type": "stream",
     "text": [
      "Root Mean Squared Error (RMSE) on test data = 4.510594057202111\n",
      "CPU times: user 74.3 ms, sys: 21.5 ms, total: 95.7 ms\n",
      "Wall time: 2min 29s\n"
     ]
    }
   ],
   "source": [
    "%%time\n",
    "from pyspark.ml.feature import StringIndexer, VectorAssembler, VectorIndexer\n",
    "\n",
    "pipeline_stages = []\n",
    "str_indexer = [StringIndexer(inputCol=column,\n",
    "                           outputCol=f'{column}_StringIndexer',\n",
    "                            handleInvalid='keep') \n",
    "               for column in str_features]\n",
    "pipeline_stages += str_indexer\n",
    "\n",
    "assembler_input = [f for f in num_features] \n",
    "assembler_input += [f'{column}_StringIndexer' \n",
    "                    for column  in str_features] \n",
    "feature_vector = VectorAssembler(inputCols=assembler_input, \n",
    "                                 outputCol='features', \n",
    "                                 handleInvalid = 'keep' )\n",
    "pipeline_stages += [feature_vector]\n",
    "\n",
    "vect_indexer = VectorIndexer(inputCol='features', \n",
    "                             outputCol= 'features_indexed', \n",
    "                             handleInvalid = 'keep' )\n",
    "pipeline_stages += [vect_indexer]\n",
    "\n",
    "from pyspark.ml.regression import DecisionTreeRegressor\n",
    "DTR = DecisionTreeRegressor(featuresCol='features_indexed', labelCol= 'fare_amount')\n",
    "pipeline_stages += [DTR]\n",
    "ml_pipeline = Pipeline(stages=pipeline_stages)\n",
    "model_dt = ml_pipeline.fit(traindf)\n",
    "evaluator = RegressionEvaluator(labelCol=\"fare_amount\", predictionCol = \"prediction\", metricName = \"rmse\")\n",
    "predictions = model_dt.transform(testdf)\n",
    "rmse_dt = evaluator.evaluate(predictions)\n",
    "print(f\"Root Mean Squared Error (RMSE) on test data = {rmse_dt}\")"
   ]
  },
  {
   "cell_type": "markdown",
   "id": "eeaab837",
   "metadata": {},
   "source": [
    "## 7.2 Evaluation (RF)"
   ]
  },
  {
   "cell_type": "code",
   "execution_count": 43,
   "id": "4ee43610",
   "metadata": {},
   "outputs": [
    {
     "name": "stdout",
     "output_type": "stream",
     "text": [
      "Root Mean Squared Error (RMSE) on test data = 4.859178787577441\n",
      "CPU times: user 74.4 ms, sys: 21.4 ms, total: 95.7 ms\n",
      "Wall time: 2min 29s\n"
     ]
    }
   ],
   "source": [
    "%%time\n",
    "from pyspark.ml.feature import StringIndexer, VectorAssembler, VectorIndexer\n",
    "\n",
    "pipeline_stages = []\n",
    "str_indexer = [StringIndexer(inputCol=column,\n",
    "                           outputCol=f'{column}_StringIndexer',\n",
    "                            handleInvalid='keep') \n",
    "               for column in str_features]\n",
    "pipeline_stages += str_indexer\n",
    "\n",
    "assembler_input = [f for f in num_features] \n",
    "assembler_input += [f'{column}_StringIndexer' \n",
    "                    for column  in str_features] \n",
    "feature_vector = VectorAssembler(inputCols=assembler_input, \n",
    "                                 outputCol='features', \n",
    "                                 handleInvalid = 'keep' )\n",
    "pipeline_stages += [feature_vector]\n",
    "\n",
    "vect_indexer = VectorIndexer(inputCol='features', \n",
    "                             outputCol= 'features_indexed', \n",
    "                             handleInvalid = 'keep' )\n",
    "pipeline_stages += [vect_indexer]\n",
    "\n",
    "from pyspark.ml.regression import RandomForestRegressor\n",
    "RFR = RandomForestRegressor(featuresCol='features_indexed', labelCol='fare_amount') #0.18353\n",
    "pipeline_stages += [RFR]\n",
    "ml_pipeline = Pipeline(stages=pipeline_stages)\n",
    "model_rf = ml_pipeline.fit(traindf)\n",
    "evaluator = RegressionEvaluator(labelCol=\"fare_amount\", predictionCol = \"prediction\", metricName = \"rmse\")\n",
    "predictions = model_rf.transform(testdf)\n",
    "rmse_rf = evaluator.evaluate(predictions)\n",
    "print(f\"Root Mean Squared Error (RMSE) on test data = {rmse_rf}\")"
   ]
  },
  {
   "cell_type": "markdown",
   "id": "38fa030f",
   "metadata": {},
   "source": [
    "## 7.3 Evaluation (GB)"
   ]
  },
  {
   "cell_type": "code",
   "execution_count": 44,
   "id": "5ed1dc30",
   "metadata": {},
   "outputs": [
    {
     "name": "stdout",
     "output_type": "stream",
     "text": [
      "Root Mean Squared Error (RMSE) on test data = 4.482471475797117\n",
      "CPU times: user 91.4 ms, sys: 10.5 ms, total: 102 ms\n",
      "Wall time: 3min 6s\n"
     ]
    }
   ],
   "source": [
    "%%time\n",
    "from pyspark.ml.feature import StringIndexer, VectorAssembler, VectorIndexer\n",
    "\n",
    "pipeline_stages = []\n",
    "str_indexer = [StringIndexer(inputCol=column,\n",
    "                           outputCol=f'{column}_StringIndexer',\n",
    "                            handleInvalid='keep') \n",
    "               for column in str_features]\n",
    "pipeline_stages += str_indexer\n",
    "\n",
    "assembler_input = [f for f in num_features] \n",
    "assembler_input += [f'{column}_StringIndexer' \n",
    "                    for column  in str_features] \n",
    "feature_vector = VectorAssembler(inputCols=assembler_input, \n",
    "                                 outputCol='features', \n",
    "                                 handleInvalid = 'keep' )\n",
    "pipeline_stages += [feature_vector]\n",
    "\n",
    "vect_indexer = VectorIndexer(inputCol='features', \n",
    "                             outputCol= 'features_indexed', \n",
    "                             handleInvalid = 'keep' )\n",
    "pipeline_stages += [vect_indexer]\n",
    "\n",
    "from pyspark.ml.regression import GBTRegressor\n",
    "GBTR = GBTRegressor(featuresCol='features_indexed', labelCol='fare_amount', maxIter =10)\n",
    "pipeline_stages += [GBTR]\n",
    "ml_pipeline = Pipeline(stages=pipeline_stages)\n",
    "model_gb = ml_pipeline.fit(traindf)\n",
    "evaluator = RegressionEvaluator(labelCol=\"fare_amount\", predictionCol = \"prediction\", metricName = \"rmse\")\n",
    "predictions = model_gb.transform(testdf)\n",
    "rmse_gb = evaluator.evaluate(predictions)\n",
    "print(f\"Root Mean Squared Error (RMSE) on test data = {rmse_gb}\")"
   ]
  },
  {
   "cell_type": "markdown",
   "id": "da881588",
   "metadata": {},
   "source": [
    "# 8. Predict Kaggle test set for evaluation "
   ]
  },
  {
   "cell_type": "code",
   "execution_count": 45,
   "id": "2aac13d8",
   "metadata": {},
   "outputs": [
    {
     "name": "stdout",
     "output_type": "stream",
     "text": [
      "(9914, 7)\n",
      "CPU times: user 3.13 ms, sys: 0 ns, total: 3.13 ms\n",
      "Wall time: 229 ms\n"
     ]
    }
   ],
   "source": [
    "%%time\n",
    "sdf_test = spark.read.csv(f'{DATA_PATH}/test.csv', inferSchema=True, header=True)\n",
    "print((sdf_test.count(), len(sdf_test.columns)))"
   ]
  },
  {
   "cell_type": "code",
   "execution_count": 46,
   "id": "e86a07d1",
   "metadata": {},
   "outputs": [],
   "source": [
    "sdf_test = sdf_test.withColumn(\"pickup_weekday\", date_format(\"pickup_datetime\", \"E\"))\n",
    "sdf_test = sdf_test.withColumn(\"pickup_hour\", date_format(\"pickup_datetime\", \"H\").cast(\"int\"))\n",
    "sdf_test = sdf_test.withColumn(\"pickup_year\", date_format(\"pickup_datetime\", \"y\").cast(\"int\"))"
   ]
  },
  {
   "cell_type": "code",
   "execution_count": 47,
   "id": "10403dcd",
   "metadata": {},
   "outputs": [],
   "source": [
    "sdf_test = sdf_test.withColumn('diff_longitude', abs( sdf_test['dropoff_longitude'] - sdf_test['pickup_longitude'] )*87 )\n",
    "sdf_test = sdf_test.withColumn('diff_latitude', abs( sdf_test['dropoff_latitude'] - sdf_test['pickup_latitude'] )*111 )\n",
    "sdf_test = sdf_test.withColumn('crow_distance', sqrt((sdf_test['diff_longitude']**2) + (sdf_test['diff_latitude']**2))  )"
   ]
  },
  {
   "cell_type": "code",
   "execution_count": 48,
   "id": "90f51ab1",
   "metadata": {},
   "outputs": [],
   "source": [
    "sdf_test_filter = sdf_test.select(num_features + str_features)"
   ]
  },
  {
   "cell_type": "code",
   "execution_count": 49,
   "id": "e7bb79cc",
   "metadata": {},
   "outputs": [
    {
     "ename": "NameError",
     "evalue": "name 'model' is not defined",
     "output_type": "error",
     "traceback": [
      "\u001b[0;31m---------------------------------------------------------------------------\u001b[0m",
      "\u001b[0;31mNameError\u001b[0m                                 Traceback (most recent call last)",
      "\u001b[0;32m<ipython-input-49-548e2583a315>\u001b[0m in \u001b[0;36m<module>\u001b[0;34m\u001b[0m\n\u001b[0;32m----> 1\u001b[0;31m \u001b[0msdf_predict\u001b[0m \u001b[0;34m=\u001b[0m \u001b[0mmodel\u001b[0m\u001b[0;34m.\u001b[0m\u001b[0mtransform\u001b[0m\u001b[0;34m(\u001b[0m\u001b[0msdf_test_filter\u001b[0m\u001b[0;34m)\u001b[0m\u001b[0;34m\u001b[0m\u001b[0;34m\u001b[0m\u001b[0m\n\u001b[0m",
      "\u001b[0;31mNameError\u001b[0m: name 'model' is not defined"
     ]
    }
   ],
   "source": [
    "sdf_predict = model.transform(sdf_test_filter)"
   ]
  },
  {
   "cell_type": "code",
   "execution_count": null,
   "id": "60831863",
   "metadata": {},
   "outputs": [],
   "source": [
    "sdf_predict.limit(5).toPandas().T"
   ]
  },
  {
   "cell_type": "code",
   "execution_count": null,
   "id": "db6b1f77",
   "metadata": {},
   "outputs": [],
   "source": [
    "sdf_predict.withColumnRenamed('prediction','fare_amount')\\\n",
    "            .select('key','fare_amount')\\\n",
    "            .coalesce(1)\\\n",
    "            .write.csv('submission',mode='overwrite',header=True)"
   ]
  }
 ],
 "metadata": {
  "kernelspec": {
   "display_name": "Python 3 (ipykernel)",
   "language": "python",
   "name": "python3"
  },
  "language_info": {
   "codemirror_mode": {
    "name": "ipython",
    "version": 3
   },
   "file_extension": ".py",
   "mimetype": "text/x-python",
   "name": "python",
   "nbconvert_exporter": "python",
   "pygments_lexer": "ipython3",
   "version": "3.8.10"
  }
 },
 "nbformat": 4,
 "nbformat_minor": 5
}
